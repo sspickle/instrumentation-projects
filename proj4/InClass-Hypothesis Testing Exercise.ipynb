{
 "cells": [
  {
   "cell_type": "code",
   "execution_count": 1,
   "metadata": {},
   "outputs": [
    {
     "name": "stderr",
     "output_type": "stream",
     "text": [
      "WARNING (pytensor.tensor.blas): Using NumPy C-API based implementation for BLAS functions.\n"
     ]
    }
   ],
   "source": [
    "import pymc as pm\n",
    "import arviz as az\n",
    "import numpy as np\n",
    "import matplotlib.pyplot as plt"
   ]
  },
  {
   "cell_type": "markdown",
   "metadata": {},
   "source": [
    "Suppose you measure two sets of data, $x_1$ and $x_2$:"
   ]
  },
  {
   "cell_type": "code",
   "execution_count": 2,
   "metadata": {},
   "outputs": [
    {
     "data": {
      "text/plain": [
       "array([3.25466863, 2.97370402, 2.91113498, 3.4574893 , 3.17937048,\n",
       "       3.03048094, 3.21812428, 2.81350504, 2.9976349 , 2.97788408,\n",
       "       3.1813029 , 2.87498481, 2.90372449, 3.46095383, 3.11570786,\n",
       "       2.69100383, 2.97142051, 2.72968174, 2.48244642, 2.8584929 ])"
      ]
     },
     "execution_count": 2,
     "metadata": {},
     "output_type": "execute_result"
    }
   ],
   "source": [
    "\n",
    "x1 = np.array([3.25466863, 2.97370402, 2.91113498, 3.4574893 , 3.17937048,\n",
    "       3.03048094, 3.21812428, 2.81350504, 2.9976349 , 2.97788408,\n",
    "       3.1813029 , 2.87498481, 2.90372449, 3.46095383, 3.11570786,\n",
    "       2.69100383, 2.97142051, 2.72968174, 2.48244642, 2.8584929 ])\n",
    "x1"
   ]
  },
  {
   "cell_type": "code",
   "execution_count": 3,
   "metadata": {},
   "outputs": [
    {
     "data": {
      "text/plain": [
       "array([3.58365047, 3.04506491, 3.35190893, 2.76485786, 3.8494015 ,\n",
       "       3.17593123, 3.03499338, 2.31533078, 2.58647626, 3.47397813,\n",
       "       2.9985396 , 3.46170964, 3.23908075, 2.78904992, 3.000179  ,\n",
       "       3.23386923, 3.10856455, 3.24167989, 2.92353227, 3.09131427])"
      ]
     },
     "execution_count": 3,
     "metadata": {},
     "output_type": "execute_result"
    }
   ],
   "source": [
    "x2 = np.array([3.58365047, 3.04506491, 3.35190893, 2.76485786, 3.8494015 ,\n",
    "       3.17593123, 3.03499338, 2.31533078, 2.58647626, 3.47397813,\n",
    "       2.9985396 , 3.46170964, 3.23908075, 2.78904992, 3.000179  ,\n",
    "       3.23386923, 3.10856455, 3.24167989, 2.92353227, 3.09131427])\n",
    "x2"
   ]
  },
  {
   "cell_type": "markdown",
   "metadata": {},
   "source": [
    "They *appear* to have different means:"
   ]
  },
  {
   "cell_type": "code",
   "execution_count": 4,
   "metadata": {},
   "outputs": [
    {
     "name": "stdout",
     "output_type": "stream",
     "text": [
      "<x1>=3.004 <x2>=3.113 -> <x2-x1> = 0.109\n"
     ]
    }
   ],
   "source": [
    "x1_mean = x1.mean()\n",
    "x2_mean = x2.mean()\n",
    "\n",
    "print(\"<x1>=%4.3f <x2>=%4.3f -> <x2-x1> = %4.3f\" % (x1_mean, x2_mean, x2_mean-x1_mean))"
   ]
  },
  {
   "cell_type": "markdown",
   "metadata": {},
   "source": [
    "Use Bayesian inference to find the posterior distribution of the difference. How likely is it that $x_2$ is *really* larger than $x_1$?"
   ]
  },
  {
   "cell_type": "code",
   "execution_count": null,
   "metadata": {},
   "outputs": [],
   "source": []
  }
 ],
 "metadata": {
  "kernelspec": {
   "display_name": "Python 3",
   "language": "python",
   "name": "python3"
  },
  "language_info": {
   "codemirror_mode": {
    "name": "ipython",
    "version": 3
   },
   "file_extension": ".py",
   "mimetype": "text/x-python",
   "name": "python",
   "nbconvert_exporter": "python",
   "pygments_lexer": "ipython3",
   "version": "3.10.4"
  },
  "vscode": {
   "interpreter": {
    "hash": "3ad933181bd8a04b432d3370b9dc3b0662ad032c4dfaa4e4f1596c548f763858"
   }
  }
 },
 "nbformat": 4,
 "nbformat_minor": 4
}
