{
 "cells": [
  {
   "cell_type": "markdown",
   "metadata": {},
   "source": [
    "# Hypothesis Testing\n",
    "\n",
    "In this project we'll be exploring basic hypothesis testing. What is a hypothesis test? It's a way to check the likliehood of a proposed statistical outcome. What follows are some examples of hypothesis tests and the way we can characterise the evidence we have to support some statistical conjecture. So let's get started!\n",
    "\n",
    "The basic idea of a hypothesis test is to\n",
    "\n",
    "1. Find a way to measure the size of the effect. This is called the *test* *statistic*\n",
    "2. Next define a *null* *hypothesis* (that there is no effect).\n",
    "3. Compute a `p-value` the probability of measuring the size witnessed if the null hypothesis is *true*\n",
    "4. Finally, interpret the result. If the p-value is low, then the effect is *statistically* *significant*.\n",
    "\n",
    "This is the entire point. There are many different tests and approaches to performing these four steps in different circumstances, but this is how you can think about it.\n",
    "    \n",
    "Let's see how this works in a [concrete example](http://greenteapress.com/thinkstats2/html/thinkstats2010.html#sec90). Suppose I have a coin that I flip 250 times. Suppose I see 140 heads (and 110 tails). Is the coin fair? Let's go through the steps:\n",
    "\n",
    "1. How do we measure the effect?\n",
    "\n",
    "    Easy! Let's take the difference between the number of heads and the number of tails: x = 140-110 = 30\n",
    "\n",
    "2. The null hypothesis is that \"there is no effect\", or the coin is fair. \n",
    "\n",
    "    In other words we expect x to be zero.\n",
    "\n",
    "3. How do we compute the p-value?\n",
    "\n",
    "    This is the probability of seeing a difference of 30 if the coin is *fair*.\n",
    "\n",
    "This is the fun part! Let's throw a coin 250 times:\n"
   ]
  },
  {
   "cell_type": "code",
   "execution_count": 1,
   "metadata": {},
   "outputs": [
    {
     "name": "stdout",
     "output_type": "stream",
     "text": [
      "[False False False False False  True False False  True False]\n",
      "-----\n",
      "num heads: 114\n"
     ]
    }
   ],
   "source": [
    "%matplotlib inline\n",
    "\n",
    "import numpy as np\n",
    "import matplotlib.pyplot as plt\n",
    "\n",
    "N=250\n",
    "\n",
    "TrueFalseFlipArray = np.random.rand(N)<0.5\n",
    "\n",
    "print(TrueFalseFlipArray[:10])\n",
    "print('-----')\n",
    "\n",
    "# remember \"True\" is like 1 and False\" is like \"0\" so \"count_nonzero\" counts the True elements only.\n",
    "\n",
    "numHeads = TrueFalseFlipArray.sum()\n",
    "print(\"num heads:\", numHeads)"
   ]
  },
  {
   "cell_type": "markdown",
   "metadata": {},
   "source": [
    "So we can flip 250 coins and count the number of heads. We have to do this *many* times and then estimate the chance of getting an absolute difference between heads and tails of 30 or more. Let's use a 2D array for that. To make it more manageable let's start with 5 trials (columns) of 10 flips (rows) each:"
   ]
  },
  {
   "cell_type": "code",
   "execution_count": 2,
   "metadata": {},
   "outputs": [
    {
     "data": {
      "text/plain": [
       "array([[ True,  True, False,  True, False],\n",
       "       [False, False, False,  True, False],\n",
       "       [False, False,  True, False,  True],\n",
       "       [ True, False, False, False, False],\n",
       "       [ True, False, False, False,  True],\n",
       "       [ True, False,  True,  True,  True],\n",
       "       [False,  True,  True, False, False],\n",
       "       [ True, False,  True, False, False],\n",
       "       [False, False, False, False,  True],\n",
       "       [ True, False, False,  True,  True]])"
      ]
     },
     "execution_count": 2,
     "metadata": {},
     "output_type": "execute_result"
    }
   ],
   "source": [
    "N = 10\n",
    "iters = 5\n",
    "\n",
    "data = np.random.rand(N,iters)<0.5\n",
    "data"
   ]
  },
  {
   "cell_type": "markdown",
   "metadata": {},
   "source": [
    "Now let's sum the columns (trials):"
   ]
  },
  {
   "cell_type": "code",
   "execution_count": 3,
   "metadata": {},
   "outputs": [
    {
     "data": {
      "text/plain": [
       "array([6, 2, 4, 4, 5])"
      ]
     },
     "execution_count": 3,
     "metadata": {},
     "output_type": "execute_result"
    }
   ],
   "source": [
    "heads = data.sum(axis=0)\n",
    "heads"
   ]
  },
  {
   "cell_type": "code",
   "execution_count": 4,
   "metadata": {},
   "outputs": [
    {
     "data": {
      "text/plain": [
       "array([4, 8, 6, 6, 5])"
      ]
     },
     "execution_count": 4,
     "metadata": {},
     "output_type": "execute_result"
    }
   ],
   "source": [
    "tails = N-heads\n",
    "tails"
   ]
  },
  {
   "cell_type": "code",
   "execution_count": 5,
   "metadata": {},
   "outputs": [
    {
     "data": {
      "text/plain": [
       "array([10, 10, 10, 10, 10])"
      ]
     },
     "execution_count": 5,
     "metadata": {},
     "output_type": "execute_result"
    }
   ],
   "source": [
    "tails+heads"
   ]
  },
  {
   "cell_type": "code",
   "execution_count": 6,
   "metadata": {},
   "outputs": [
    {
     "name": "stdout",
     "output_type": "stream",
     "text": [
      "So the first column had 6 heads, while the second had 2 heads, and so on.\n"
     ]
    }
   ],
   "source": [
    "print(\"So the first column had %d heads, while the second had %d heads, and so on.\" % (heads[0], heads[1]))"
   ]
  },
  {
   "cell_type": "code",
   "execution_count": 7,
   "metadata": {},
   "outputs": [
    {
     "data": {
      "text/plain": [
       "(array([  3.,  13.,  53., 178., 273., 252., 162.,  52.,  12.,   2.]),\n",
       " array([-58., -46., -34., -22., -10.,   2.,  14.,  26.,  38.,  50.,  62.]),\n",
       " <a list of 10 Patch objects>)"
      ]
     },
     "execution_count": 7,
     "metadata": {},
     "output_type": "execute_result"
    },
    {
     "data": {
      "image/png": "[encoded data removed]",
      "text/plain": [
       "<Figure size 432x288 with 1 Axes>"
      ]
     },
     "metadata": {
      "needs_background": "light"
     },
     "output_type": "display_data"
    }
   ],
   "source": [
    "# Let's bump it up to 1000 iterations (trials) of 250 flips:\n",
    "\n",
    "N = 250\n",
    "iters = 1000\n",
    "\n",
    "data = np.random.rand(N,iters)<0.5\n",
    "heads = data.sum(axis=0)\n",
    "tails = N - heads\n",
    "\n",
    "plt.hist(heads-tails)"
   ]
  },
  {
   "cell_type": "code",
   "execution_count": 8,
   "metadata": {},
   "outputs": [
    {
     "data": {
      "text/plain": [
       "0.068"
      ]
     },
     "execution_count": 8,
     "metadata": {},
     "output_type": "execute_result"
    }
   ],
   "source": [
    "(abs(heads-tails)>=30).sum()/iters"
   ]
  },
  {
   "cell_type": "markdown",
   "metadata": {},
   "source": [
    "So the chance of getting a difference of 30 or more is about 7%. That's the `p-value`.\n",
    "\n",
    "## Differences between two data sets\n",
    "\n",
    "What if I make a series of 20 measurements:"
   ]
  },
  {
   "cell_type": "code",
   "execution_count": 9,
   "metadata": {},
   "outputs": [
    {
     "data": {
      "text/plain": [
       "array([3.25466863, 2.97370402, 2.91113498, 3.4574893 , 3.17937048,\n",
       "       3.03048094, 3.21812428, 2.81350504, 2.9976349 , 2.97788408,\n",
       "       3.1813029 , 2.87498481, 2.90372449, 3.46095383, 3.11570786,\n",
       "       2.69100383, 2.97142051, 2.72968174, 2.48244642, 2.8584929 ])"
      ]
     },
     "execution_count": 9,
     "metadata": {},
     "output_type": "execute_result"
    }
   ],
   "source": [
    "x1 = np.array([3.25466863, 2.97370402, 2.91113498, 3.4574893 , 3.17937048,\n",
    "       3.03048094, 3.21812428, 2.81350504, 2.9976349 , 2.97788408,\n",
    "       3.1813029 , 2.87498481, 2.90372449, 3.46095383, 3.11570786,\n",
    "       2.69100383, 2.97142051, 2.72968174, 2.48244642, 2.8584929 ])\n",
    "x1"
   ]
  },
  {
   "cell_type": "markdown",
   "metadata": {},
   "source": [
    "And then I make another seriels:"
   ]
  },
  {
   "cell_type": "code",
   "execution_count": 10,
   "metadata": {},
   "outputs": [
    {
     "data": {
      "text/plain": [
       "array([3.58365047, 3.04506491, 3.35190893, 2.76485786, 3.8494015 ,\n",
       "       3.17593123, 3.03499338, 2.31533078, 2.58647626, 3.47397813,\n",
       "       2.9985396 , 3.46170964, 3.23908075, 2.78904992, 3.000179  ,\n",
       "       3.23386923, 3.10856455, 3.24167989, 2.92353227, 3.09131427])"
      ]
     },
     "execution_count": 10,
     "metadata": {},
     "output_type": "execute_result"
    }
   ],
   "source": [
    "x2 = np.array([3.58365047, 3.04506491, 3.35190893, 2.76485786, 3.8494015 ,\n",
    "       3.17593123, 3.03499338, 2.31533078, 2.58647626, 3.47397813,\n",
    "       2.9985396 , 3.46170964, 3.23908075, 2.78904992, 3.000179  ,\n",
    "       3.23386923, 3.10856455, 3.24167989, 2.92353227, 3.09131427])\n",
    "x2"
   ]
  },
  {
   "cell_type": "code",
   "execution_count": 11,
   "metadata": {},
   "outputs": [
    {
     "name": "stdout",
     "output_type": "stream",
     "text": [
      "They have different means: <x1>=3.004 <x2>=3.113 -> <x2-x1> = 0.109\n"
     ]
    }
   ],
   "source": [
    "x1_mean = x1.mean()\n",
    "x2_mean = x2.mean()\n",
    "\n",
    "print(\"They have different means: <x1>=%4.3f <x2>=%4.3f -> <x2-x1> = %4.3f\" % (x1_mean, x2_mean, x2_mean-x1_mean))"
   ]
  },
  {
   "cell_type": "code",
   "execution_count": 12,
   "metadata": {},
   "outputs": [
    {
     "data": {
      "image/png": "[encoded data removed]",
      "text/plain": [
       "<Figure size 432x288 with 1 Axes>"
      ]
     },
     "metadata": {
      "needs_background": "light"
     },
     "output_type": "display_data"
    }
   ],
   "source": [
    "plt.plot(range(len(x1)), x1, 'b.')\n",
    "plt.plot(np.arange(len(x2))+len(x1), x2, 'r+')\n",
    "plt.plot((0,len(x1)),(x1_mean,x1_mean),'b-')\n",
    "plt.plot((len(x1),len(x1)+len(x2)),(x2_mean,x2_mean),'r-')\n",
    "plt.title(\"x1 data followed by x2 data\")\n",
    "plt.grid()"
   ]
  },
  {
   "cell_type": "markdown",
   "metadata": {},
   "source": [
    "Now, the question is: Is this difference *real*, or just a statistical fluctuation?\n",
    "\n",
    "1. What's my test statistic?\n",
    "\n",
    "    It appears that `<x2> > <x1>`, so maybe I should use `<x2> - <x1>`. Make sense?    \n",
    "\n",
    "2. The null hypothesis would be that `<x2> - <x1>` is zero.\n",
    "\n",
    "   How do we compute the `p-value`? One way is to put all the data into a pot, stir it up, and pull out two sets at random that have the same size as the original sets. For these two random sets, compute the difference of their means. Let's try that!"
   ]
  },
  {
   "cell_type": "code",
   "execution_count": 13,
   "metadata": {},
   "outputs": [
    {
     "data": {
      "text/plain": [
       "Text(0.5, 1.0, 'mean differences of shuffled data')"
      ]
     },
     "execution_count": 13,
     "metadata": {},
     "output_type": "execute_result"
    },
    {
     "data": {
      "image/png": "[encoded data removed]",
      "text/plain": [
       "<Figure size 432x288 with 1 Axes>"
      ]
     },
     "metadata": {
      "needs_background": "light"
     },
     "output_type": "display_data"
    }
   ],
   "source": [
    "iters = 10000\n",
    "all_data = np.append(x1, x2)  # put all the data in one pot\n",
    "mean_diffs = []\n",
    "\n",
    "for i in range(iters):\n",
    "    np.random.shuffle(all_data)                # stir the pot\n",
    "    x1_mean_test = np.mean(all_data[:len(x1)]) # get mean of the first lot, like the original x1\n",
    "    x2_mean_test = np.mean(all_data[len(x1):]) # get the mean of the second lot, like the original x2\n",
    "    mean_diffs.append(x2_mean_test - x1_mean_test) # compute the difference of means and collect\n",
    "    \n",
    "mean_diffs = np.array(mean_diffs)  # convert to numpy array\n",
    "plt.hist(mean_diffs,20)\n",
    "plt.grid()\n",
    "plt.title(\"mean differences of shuffled data\")"
   ]
  },
  {
   "cell_type": "markdown",
   "metadata": {},
   "source": [
    "# Exercises\n",
    "\n",
    "1. Now it's your turn. You have a numpy array of differences of means. What's the `p-value` of finding a difference greater than or equal to the observed difference in your data of 0.109? (Answer: approximately 0.127)\n",
    "\n",
    "2. How do you interpret this `p-value`? Are the measured difference statistically significant?\n",
    "\n",
    "3. For your lab data, carry out a hypothesis test to support or refute your measurement of an effect."
   ]
  },
  {
   "cell_type": "code",
   "execution_count": null,
   "metadata": {},
   "outputs": [],
   "source": []
  }
 ],
 "metadata": {
  "kernelspec": {
   "display_name": "Python 3",
   "language": "python",
   "name": "python3"
  },
  "language_info": {
   "codemirror_mode": {
    "name": "ipython",
    "version": 3
   },
   "file_extension": ".py",
   "mimetype": "text/x-python",
   "name": "python",
   "nbconvert_exporter": "python",
   "pygments_lexer": "ipython3",
   "version": "3.8.3"
  }
 },
 "nbformat": 4,
 "nbformat_minor": 2
}
