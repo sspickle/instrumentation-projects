{
 "cells": [
  {
   "cell_type": "code",
   "execution_count": 1,
   "metadata": {},
   "outputs": [],
   "source": [
    "#\n",
    "# suppose you have a source of strings, maybe that you're reading over a serial port.\n",
    "#\n",
    "\n",
    "x = ['Joe','Sue','Sally','Christian','Sam','Bill','Ted']\n"
   ]
  },
  {
   "cell_type": "code",
   "execution_count": 2,
   "metadata": {},
   "outputs": [
    {
     "name": "stdout",
     "output_type": "stream",
     "text": [
      "Joe\n",
      "['Joe']\n",
      "Sue\n",
      "['Joe', 'Sue']\n",
      "Sally\n",
      "['Joe', 'Sue', 'Sally']\n",
      "Christian\n",
      "['Joe', 'Sue', 'Sally', 'Christian']\n",
      "Sam\n",
      "['Joe', 'Sue', 'Sally', 'Christian', 'Sam']\n",
      "Bill\n",
      "['Joe', 'Sue', 'Sally', 'Christian', 'Sam', 'Bill']\n",
      "Ted\n",
      "['Joe', 'Sue', 'Sally', 'Christian', 'Sam', 'Bill', 'Ted']\n"
     ]
    }
   ],
   "source": [
    "#\n",
    "# you can build up a list by \"appending\" the individual strings to a new list\n",
    "#\n",
    "\n",
    "y=[]\n",
    "\n",
    "for s in x:\n",
    "    print(s)\n",
    "    y.append(s)\n",
    "    print(y)\n",
    "\n",
    "#\n",
    "# note that 'y' grows as you pull strings from 'x'.\n",
    "#"
   ]
  },
  {
   "cell_type": "code",
   "execution_count": 3,
   "metadata": {},
   "outputs": [],
   "source": [
    "#\n",
    "# open a file named 'data.csv' for writing.\n",
    "#\n",
    "\n",
    "f=open('data.csv','w')"
   ]
  },
  {
   "cell_type": "code",
   "execution_count": 4,
   "metadata": {},
   "outputs": [],
   "source": [
    "#\n",
    "# now go throught the strings in the new \"y\" array, and write them to the file.\n",
    "#\n",
    "\n",
    "for s in y:\n",
    "    f.write(s + '\\n')\n",
    "f.close()\n"
   ]
  },
  {
   "cell_type": "code",
   "execution_count": 5,
   "metadata": {},
   "outputs": [
    {
     "name": "stdout",
     "output_type": "stream",
     "text": [
      "Joe\n",
      "Sue\n",
      "Sally\n",
      "Christian\n",
      "Sam\n",
      "Bill\n",
      "Ted\n"
     ]
    }
   ],
   "source": [
    "\n",
    "#\n",
    "# Let's check that they were stored correctly.\n",
    "#\n",
    "\n",
    "f = open('data.csv')\n",
    "\n",
    "s = f.readline()\n",
    "\n",
    "while (s):\n",
    "    print(s.strip())  # 'strip' just get's rid of extra whitespace, like newlines.\n",
    "    s = f.readline()\n",
    "    \n",
    "f.close()\n",
    "\n",
    "#\n",
    "# Bingo!\n",
    "#"
   ]
  },
  {
   "cell_type": "code",
   "execution_count": null,
   "metadata": {},
   "outputs": [],
   "source": []
  }
 ],
 "metadata": {
  "kernelspec": {
   "display_name": "Python 3",
   "language": "python",
   "name": "python3"
  },
  "language_info": {
   "codemirror_mode": {
    "name": "ipython",
    "version": 3
   },
   "file_extension": ".py",
   "mimetype": "text/x-python",
   "name": "python",
   "nbconvert_exporter": "python",
   "pygments_lexer": "ipython3",
   "version": "3.8.3"
  }
 },
 "nbformat": 4,
 "nbformat_minor": 2
}
