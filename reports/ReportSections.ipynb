{
 "cells": [
  {
   "cell_type": "markdown",
   "metadata": {},
   "source": [
    "# PHYS-230 Project Reports\n",
    "\n",
    "Each project has two components:\n",
    "1. An electronics project involving concepts directly related designing, prototyping, or testing laboratory instrumentation (e.g, programmable microcontrollers, instrument controllers, sensors, and data acquisition systems).\n",
    "2. A data analysis project focusing primarily on processing, interpreting, and making inferences from the data acquired in (1).\n",
    "\n",
    "Plagiarism: While students will work in teams to complete part 1, and they are welcome to work collaboratively in developing solutions to part 2, the report that each student submits documenting their work must be the result of their own effort. You may certainly share data within a group (not between groups) and you can share artifacts (e.g., schematics, photos, drawings) but your written words should be entirely your own personal product, not derived from the work of any other person."
   ]
  },
  {
   "cell_type": "markdown",
   "metadata": {},
   "source": [
    "# Abstract:\n",
    "\n",
    "The abstract should be 1-3 sentences at most. Describe a) what you measured, b) how you measured it and c) the final result of your analysis, including some measure of uncertainty. Not a great deal of detail, but enough to answer these basic questions. So for example in this report we could say: The measured resistance was $R = 19.2 \\pm 1.3\\,k \\Omega$.\n",
    "\n",
    "# Description\n",
    "\n",
    "In the description you would describe, in your own words, the circuit you built/designed/tested and any important features that were studied. For example you might say:\n",
    "\n",
    "\"In this project we investigated the I-V behavior of a photoresistor. A photoresistor is a resistor with a variable resistance that depends on the intensity of light falling on the photosensitive surface of the device. We set the light-level at a fixed value and connected a known current sense resistor in series with the photoresistor. By applying a series of known fixed voltages across the series combination and measuring voltage drop across the photoresistor we were able to infer the current through the device. This was then used, along with the voltage drop, to evaluate the resistance of the photoresistor.\"\n",
    "\n",
    "Note: This is *not* a procedure with step-by-step instructions. You may assume your reader knows the defintion of common terms and the basic function of laboratory instruments.\n",
    "\n",
    "# Schematic, Background, Discussion\n",
    "\n",
    "**Important**: You should always include a schematic describing the circuit you *actually* built in the lab. If you had to select component values that were not provided this is where you'd explain those design decisions. This usually involves using the requirements of the design, and the expected behavior of the circuit elements, to determine what values make sense. Please don't just say \"we tried a bunch of different values for $R_1$ and things seemed to work best at around $330\\,\\Omega$.\n",
    "\n",
    "If the reader will need any background information or further discussion to explain the experiment, this is a good place to put that.\n"
   ]
  },
  {
   "cell_type": "markdown",
   "metadata": {},
   "source": [
    "\n",
    "# Circuit Function, including code + data\n",
    "\n"
   ]
  },
  {
   "cell_type": "markdown",
   "metadata": {},
   "source": [
    "This is where you use the measurements you made and the data you collected to demonstrate that your project \"worked\". If there is data, either present the actual values (if it's not too much) or show some representative values, and make a graph showing it all. Be sure to label your data and graphs very clearly so it's obvious what you're presenting. Be sure to use correct units. If you wrote code to control the project, or to collect measurements, include that code here. If you wrote code to translate raw data into sensible units, that can go here as well."
   ]
  },
  {
   "cell_type": "markdown",
   "metadata": {},
   "source": [
    "# Results (including analysis and stats exercises)\n",
    "\n",
    "The idea of this section is to tell the story of what you learned from the data you collected. Use whatever tools you need to make it clear how you analyzed the data to make whatever claims you can make. This is also where you'll present your solutions to the statistical exercises in the stats notebook."
   ]
  },
  {
   "cell_type": "markdown",
   "metadata": {},
   "source": [
    "Conclusion\n",
    "===========\n",
    "\n",
    "Be sure to answer any questions posed in the project description (handout) and give some kind of final assessment of the project overall. (Did it meet expectations, goals, etc.?). \n",
    "\n",
    "\n"
   ]
  },
  {
   "cell_type": "code",
   "execution_count": null,
   "metadata": {},
   "outputs": [],
   "source": []
  }
 ],
 "metadata": {
  "kernelspec": {
   "display_name": "Python 3",
   "language": "python",
   "name": "python3"
  },
  "language_info": {
   "codemirror_mode": {
    "name": "ipython",
    "version": 3
   },
   "file_extension": ".py",
   "mimetype": "text/x-python",
   "name": "python",
   "nbconvert_exporter": "python",
   "pygments_lexer": "ipython3",
   "version": "3.8.3"
  }
 },
 "nbformat": 4,
 "nbformat_minor": 1
}
