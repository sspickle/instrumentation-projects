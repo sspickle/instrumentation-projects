{
 "cells": [
  {
   "cell_type": "code",
   "execution_count": 1,
   "metadata": {},
   "outputs": [],
   "source": [
    "import pandas as pd\n",
    "import matplotlib.pyplot as plt\n",
    "import numpy as np"
   ]
  },
  {
   "cell_type": "markdown",
   "metadata": {},
   "source": [
    "Project 0: Characterizing An Unknown Component Manually\n",
    "-----------------------------------------------------------------------\n",
    "\n",
    "Suppose you were given a new electronic component with two wires and you were asked\n",
    "to measure its behavior. How would you do it? You might consider a circuit like this:\n",
    "\n",
    "![Unknown](imgs/unknown.png)\n",
    "\n",
    "You could monitor the current (I) with an ideal current meter, and set the voltage (V) with an ideal voltage supply.\n",
    "\n",
    "Unfortunately you'd probably realize that we don't have any ideal current meters handy, (though we do have very nearly ideal voltage sources!). How could we measure the current accurately without putting a current meter inline with the component? After a bit of thought you might come up with this idea:"
   ]
  },
  {
   "cell_type": "markdown",
   "metadata": {},
   "source": [
    "![Unknows_wR](imgs/unknown_wR.png)\n",
    "\n",
    "How does that help? Note that if you *know* the resistance of the resistor, and you can *measure* the voltage at either end of that resistor, you can use Ohm's law to deduce the current flow! Easy! OK, so let's do it. You can go to [tinkercad](https://tinkercad.com) and create a circuit like this:"
   ]
  },
  {
   "cell_type": "markdown",
   "metadata": {},
   "source": [
    "![Tinker](imgs/tinker.png)\n",
    "\n",
    "Note that you can adjust the voltage knob on the power supply and the voltage shown change. Also, while this particular supply displays the current, you could compute the current using the voltage measurements and the resistance of the resistor (1000 $\\Omega$). There is a video describing how to build this circuit on Tinkercad [here](https://youtu.be/UTcm4OGsDi4), and how to create it in LTSpice [here](https://youtu.be/9Oayt4ZMXoQ)."
   ]
  },
  {
   "cell_type": "markdown",
   "metadata": {},
   "source": [
    "The current, in this case, is $I = (10.0\\ {\\rm V} - 5.71\\ {\\rm V})/1000\\ \\Omega \\approx 4.29\\ {\\rm mA}$.\n",
    "\n",
    "If you adjust the voltage over the range 0-10.0 V you can collect a set of data somethign like this. Note that you really should do the measurement!\n"
   ]
  },
  {
   "cell_type": "code",
   "execution_count": 3,
   "metadata": {},
   "outputs": [
    {
     "name": "stdout",
     "output_type": "stream",
     "text": [
      "Index(['v1', 'V(n001)', 'V(n002)'], dtype='object')\n"
     ]
    },
    {
     "data": {
      "text/html": [
       "<div>\n",
       "<style scoped>\n",
       "    .dataframe tbody tr th:only-of-type {\n",
       "        vertical-align: middle;\n",
       "    }\n",
       "\n",
       "    .dataframe tbody tr th {\n",
       "        vertical-align: top;\n",
       "    }\n",
       "\n",
       "    .dataframe thead th {\n",
       "        text-align: right;\n",
       "    }\n",
       "</style>\n",
       "<table border=\"1\" class=\"dataframe\">\n",
       "  <thead>\n",
       "    <tr style=\"text-align: right;\">\n",
       "      <th></th>\n",
       "      <th>v1</th>\n",
       "      <th>V(n001)</th>\n",
       "      <th>V(n002)</th>\n",
       "    </tr>\n",
       "  </thead>\n",
       "  <tbody>\n",
       "    <tr>\n",
       "      <th>0</th>\n",
       "      <td>0.0</td>\n",
       "      <td>0.0</td>\n",
       "      <td>0.0</td>\n",
       "    </tr>\n",
       "    <tr>\n",
       "      <th>1</th>\n",
       "      <td>1.0</td>\n",
       "      <td>1.0</td>\n",
       "      <td>0.5</td>\n",
       "    </tr>\n",
       "    <tr>\n",
       "      <th>2</th>\n",
       "      <td>2.0</td>\n",
       "      <td>2.0</td>\n",
       "      <td>1.0</td>\n",
       "    </tr>\n",
       "    <tr>\n",
       "      <th>3</th>\n",
       "      <td>3.0</td>\n",
       "      <td>3.0</td>\n",
       "      <td>1.5</td>\n",
       "    </tr>\n",
       "    <tr>\n",
       "      <th>4</th>\n",
       "      <td>4.0</td>\n",
       "      <td>4.0</td>\n",
       "      <td>2.0</td>\n",
       "    </tr>\n",
       "    <tr>\n",
       "      <th>5</th>\n",
       "      <td>5.0</td>\n",
       "      <td>5.0</td>\n",
       "      <td>2.5</td>\n",
       "    </tr>\n",
       "    <tr>\n",
       "      <th>6</th>\n",
       "      <td>6.0</td>\n",
       "      <td>6.0</td>\n",
       "      <td>3.0</td>\n",
       "    </tr>\n",
       "    <tr>\n",
       "      <th>7</th>\n",
       "      <td>7.0</td>\n",
       "      <td>7.0</td>\n",
       "      <td>3.5</td>\n",
       "    </tr>\n",
       "    <tr>\n",
       "      <th>8</th>\n",
       "      <td>8.0</td>\n",
       "      <td>8.0</td>\n",
       "      <td>4.0</td>\n",
       "    </tr>\n",
       "    <tr>\n",
       "      <th>9</th>\n",
       "      <td>9.0</td>\n",
       "      <td>9.0</td>\n",
       "      <td>4.5</td>\n",
       "    </tr>\n",
       "    <tr>\n",
       "      <th>10</th>\n",
       "      <td>10.0</td>\n",
       "      <td>10.0</td>\n",
       "      <td>5.0</td>\n",
       "    </tr>\n",
       "  </tbody>\n",
       "</table>\n",
       "</div>"
      ],
      "text/plain": [
       "      v1  V(n001)  V(n002)\n",
       "0    0.0      0.0      0.0\n",
       "1    1.0      1.0      0.5\n",
       "2    2.0      2.0      1.0\n",
       "3    3.0      3.0      1.5\n",
       "4    4.0      4.0      2.0\n",
       "5    5.0      5.0      2.5\n",
       "6    6.0      6.0      3.0\n",
       "7    7.0      7.0      3.5\n",
       "8    8.0      8.0      4.0\n",
       "9    9.0      9.0      4.5\n",
       "10  10.0     10.0      5.0"
      ]
     },
     "execution_count": 3,
     "metadata": {},
     "output_type": "execute_result"
    }
   ],
   "source": [
    "LT_df = pd.read_csv('P0-LTSpice.txt', sep='\\t')\n",
    "print(LT_df.columns)\n",
    "LT_df"
   ]
  },
  {
   "cell_type": "code",
   "execution_count": 10,
   "metadata": {},
   "outputs": [],
   "source": [
    "v1 = LT_df['v1']\n",
    "vn1 = LT_df['V(n001)']"
   ]
  },
  {
   "cell_type": "code",
   "execution_count": 11,
   "metadata": {},
   "outputs": [
    {
     "data": {
      "text/plain": [
       "Text(0, 0.5, 'V(n001) (V)')"
      ]
     },
     "execution_count": 11,
     "metadata": {},
     "output_type": "execute_result"
    },
    {
     "data": {
      "image/png": "[encoded data removed]",
      "text/plain": [
       "<Figure size 432x288 with 1 Axes>"
      ]
     },
     "metadata": {
      "needs_background": "light"
     },
     "output_type": "display_data"
    }
   ],
   "source": [
    "plt.plot(v1, vn1,'b.')\n",
    "plt.grid()\n",
    "plt.title(\"Example data plot\")\n",
    "plt.xlabel('V1 (V)')\n",
    "plt.ylabel('V(n001) (V)')"
   ]
  },
  {
   "cell_type": "code",
   "execution_count": 12,
   "metadata": {},
   "outputs": [
    {
     "data": {
      "text/plain": [
       "(1.0, -1.0373548676729748e-16)"
      ]
     },
     "execution_count": 12,
     "metadata": {},
     "output_type": "execute_result"
    }
   ],
   "source": [
    "m, b = np.polyfit(v1, vn1, 1)\n",
    "m, b"
   ]
  },
  {
   "cell_type": "code",
   "execution_count": 14,
   "metadata": {},
   "outputs": [
    {
     "data": {
      "text/plain": [
       "<matplotlib.legend.Legend at 0x7ff4c1116070>"
      ]
     },
     "execution_count": 14,
     "metadata": {},
     "output_type": "execute_result"
    },
    {
     "data": {
      "image/png": "[encoded data removed]",
      "text/plain": [
       "<Figure size 432x288 with 1 Axes>"
      ]
     },
     "metadata": {
      "needs_background": "light"
     },
     "output_type": "display_data"
    }
   ],
   "source": [
    "vn1th = m*v1 + b\n",
    "\n",
    "plt.plot(v1, vn1,'b.', label='data')\n",
    "plt.plot(v1, vn1th,'r-', label='linear fit')\n",
    "plt.grid()\n",
    "plt.title(\"Example data plot\")\n",
    "plt.xlabel('V1 (V)')\n",
    "plt.ylabel('V(n001) (V)')\n",
    "plt.legend()"
   ]
  }
 ],
 "metadata": {
  "kernelspec": {
   "display_name": "Python 3",
   "language": "python",
   "name": "python3"
  },
  "language_info": {
   "codemirror_mode": {
    "name": "ipython",
    "version": 3
   },
   "file_extension": ".py",
   "mimetype": "text/x-python",
   "name": "python",
   "nbconvert_exporter": "python",
   "pygments_lexer": "ipython3",
   "version": "3.8.3"
  }
 },
 "nbformat": 4,
 "nbformat_minor": 2
}
