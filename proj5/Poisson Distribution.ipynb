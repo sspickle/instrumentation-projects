{
 "cells": [
  {
   "cell_type": "markdown",
   "metadata": {},
   "source": [
    "# Stats Project 5\n",
    "\n",
    "## Counting and the Poisson Distribution\n",
    "\n",
    "You will no doubt recall the examples we worked out involving defect rates on an assembly line. We assumed an average time between defects of 10 minutes (or equivalently: 6 defects/hour). However the time between defects was a random variable and I claimed that this population of random time intervals would be exponentially distributed. This week we'll explore this claim a bit more deeply and also learn about an extremely practical tool for analysing situtions in which events occur with a well defined rate: [The Poisson Distribution](https://en.wikipedia.org/wiki/Poisson_distribution).\n",
    "\n",
    "## Coin Flipping Again\n",
    "\n",
    "First however, we need to go back to coin flipping for a second. There is a connection between coin flipping and the Poisson distribution that I'd like to describe so you can see the logical connection for this to make sense. Suppose I flip a coin 10 times. What's the chance of seeing a particular set of heads and tails?\n",
    "\n",
    "    HHTHTTHTTT\n",
    "\n",
    "Because there are 10 flips, and each flip has two possible outcomes, there are $2^{10}$ or 1024 possible outcomes. This particular outcome is just one of 1024 so the chance of seeing this exact outcome is 1.0/1024 or approximately one in a thousand or so. However, we could ask a *different* question: What's the chance of seeing an outcome *like* this, with the same number of heads (4) and the same number of tails (6) without regard to which exact flips were heads and tails? This is a more subtle question! \n",
    "\n",
    "The key concept here is the combinitorial counting strategy of tracking how many ways can you arrange N distinct things. The answer is $N!$. Why? Assume you have $N$ 'slots'. Into these slots you can place N things, but only *one* thing can go in each slot, so that at the end you'll have an ordered arrangement of N objects. There are $N$ ways to place the first object, $N-1$ ways for the second and so on. How many ways are there to place all $N$? \n",
    "\n",
    "$$ {\\rm Ways} = N\\times(N-1)\\times(N-2)\\times\\cdots\\times1$$\n",
    "\n",
    "So this is nothing other than $N!$.\n",
    "\n",
    "So! There 10! ways place 10 objects. How does that help with the coin question? It helps because there are 10! ways to arrange the 10 coins, but we can rearrange the heads and tails without affecting the answer so we need to *divide* by the number of ways to arrange the heads (4!), and the number ways to arrange the tails (6!) to get:\n",
    "\n",
    "$$ {\\rm Ways} = \\frac{10!}{4! 6!} = \\frac{10\\times9\\times8\\times7}{4\\times3\\times2} $$\n",
    "\n",
    "$$ {\\rm Ways} = 5\\times3\\times2\\times7 = 15\\times14 = 210 $$\n",
    "\n",
    "So, there are 210 ways of getting 4 heads and 6 tails when flipping a coin 10 times. Now what's the chance of that? That depends on the probability of flipping a \"heads\" or a \"tails\". Assuming a fair coin, these are both 50%. Since I flip the coins 10 times, the chance will be 1/1024, so the overall probability is:\n",
    "\n",
    "$$ P = \\frac{{\\rm Ways}}{1024} = \\frac{210}{1024} \\approx 20.5\\% $$\n",
    "\n",
    "This is a specific example of a more general situation governed by the [Binomial Distribution](https://en.wikipedia.org/wiki/Binomial_distribution).\n",
    "\n",
    "Suppose we have an unfair coin P(heads)=p, P(tails)=q, p+q=1. Using the above logic we'd conclude that the probability of getting l heads and m tails (l+m=N) would be:\n",
    "\n",
    "$$ P = \\frac{N!}{l! m!} p^l q^m $$\n",
    "\n",
    "We can check this out using python. The factor in front, with the factorials, is called the \"binomical coefficient\" and can be calculated using the library function `binom`."
   ]
  },
  {
   "cell_type": "code",
   "execution_count": 14,
   "metadata": {},
   "outputs": [],
   "source": [
    "%matplotlib inline\n",
    "import pandas as pd\n",
    "import matplotlib.pyplot as pl\n",
    "import numpy as np\n",
    "from scipy.special import binom\n",
    "from scipy.stats import norm"
   ]
  },
  {
   "cell_type": "code",
   "execution_count": 15,
   "metadata": {},
   "outputs": [
    {
     "data": {
      "text/html": [
       "<div>\n",
       "<style scoped>\n",
       "    .dataframe tbody tr th:only-of-type {\n",
       "        vertical-align: middle;\n",
       "    }\n",
       "\n",
       "    .dataframe tbody tr th {\n",
       "        vertical-align: top;\n",
       "    }\n",
       "\n",
       "    .dataframe thead th {\n",
       "        text-align: right;\n",
       "    }\n",
       "</style>\n",
       "<table border=\"1\" class=\"dataframe\">\n",
       "  <thead>\n",
       "    <tr style=\"text-align: right;\">\n",
       "      <th></th>\n",
       "      <th>h</th>\n",
       "      <th>p</th>\n",
       "      <th>t</th>\n",
       "      <th>w</th>\n",
       "    </tr>\n",
       "  </thead>\n",
       "  <tbody>\n",
       "    <tr>\n",
       "      <th>0</th>\n",
       "      <td>0</td>\n",
       "      <td>0.000977</td>\n",
       "      <td>10</td>\n",
       "      <td>1.0</td>\n",
       "    </tr>\n",
       "    <tr>\n",
       "      <th>1</th>\n",
       "      <td>1</td>\n",
       "      <td>0.009766</td>\n",
       "      <td>9</td>\n",
       "      <td>10.0</td>\n",
       "    </tr>\n",
       "    <tr>\n",
       "      <th>2</th>\n",
       "      <td>2</td>\n",
       "      <td>0.043945</td>\n",
       "      <td>8</td>\n",
       "      <td>45.0</td>\n",
       "    </tr>\n",
       "    <tr>\n",
       "      <th>3</th>\n",
       "      <td>3</td>\n",
       "      <td>0.117188</td>\n",
       "      <td>7</td>\n",
       "      <td>120.0</td>\n",
       "    </tr>\n",
       "    <tr>\n",
       "      <th>4</th>\n",
       "      <td>4</td>\n",
       "      <td>0.205078</td>\n",
       "      <td>6</td>\n",
       "      <td>210.0</td>\n",
       "    </tr>\n",
       "    <tr>\n",
       "      <th>5</th>\n",
       "      <td>5</td>\n",
       "      <td>0.246094</td>\n",
       "      <td>5</td>\n",
       "      <td>252.0</td>\n",
       "    </tr>\n",
       "    <tr>\n",
       "      <th>6</th>\n",
       "      <td>6</td>\n",
       "      <td>0.205078</td>\n",
       "      <td>4</td>\n",
       "      <td>210.0</td>\n",
       "    </tr>\n",
       "    <tr>\n",
       "      <th>7</th>\n",
       "      <td>7</td>\n",
       "      <td>0.117188</td>\n",
       "      <td>3</td>\n",
       "      <td>120.0</td>\n",
       "    </tr>\n",
       "    <tr>\n",
       "      <th>8</th>\n",
       "      <td>8</td>\n",
       "      <td>0.043945</td>\n",
       "      <td>2</td>\n",
       "      <td>45.0</td>\n",
       "    </tr>\n",
       "    <tr>\n",
       "      <th>9</th>\n",
       "      <td>9</td>\n",
       "      <td>0.009766</td>\n",
       "      <td>1</td>\n",
       "      <td>10.0</td>\n",
       "    </tr>\n",
       "    <tr>\n",
       "      <th>10</th>\n",
       "      <td>10</td>\n",
       "      <td>0.000977</td>\n",
       "      <td>0</td>\n",
       "      <td>1.0</td>\n",
       "    </tr>\n",
       "  </tbody>\n",
       "</table>\n",
       "</div>"
      ],
      "text/plain": [
       "     h         p   t      w\n",
       "0    0  0.000977  10    1.0\n",
       "1    1  0.009766   9   10.0\n",
       "2    2  0.043945   8   45.0\n",
       "3    3  0.117188   7  120.0\n",
       "4    4  0.205078   6  210.0\n",
       "5    5  0.246094   5  252.0\n",
       "6    6  0.205078   4  210.0\n",
       "7    7  0.117188   3  120.0\n",
       "8    8  0.043945   2   45.0\n",
       "9    9  0.009766   1   10.0\n",
       "10  10  0.000977   0    1.0"
      ]
     },
     "execution_count": 15,
     "metadata": {},
     "output_type": "execute_result"
    }
   ],
   "source": [
    "results = []\n",
    "N=10\n",
    "p=0.5\n",
    "q=0.5\n",
    "\n",
    "for nheads in range(N+1):\n",
    "    ntails = N - nheads\n",
    "    ways = binom(N,nheads)\n",
    "    prob = ways*p**nheads*q**ntails\n",
    "    results.append({'w':ways, 'p':prob, 'h':nheads, 't':ntails})\n",
    "    \n",
    "df = pd.DataFrame(results)\n",
    "df"
   ]
  },
  {
   "cell_type": "code",
   "execution_count": 16,
   "metadata": {},
   "outputs": [
    {
     "data": {
      "text/plain": [
       "1.0"
      ]
     },
     "execution_count": 16,
     "metadata": {},
     "output_type": "execute_result"
    }
   ],
   "source": [
    "df.p.sum()"
   ]
  },
  {
   "cell_type": "code",
   "execution_count": 24,
   "metadata": {},
   "outputs": [
    {
     "data": {
      "image/png": "[encoded data removed]",
      "text/plain": [
       "<Figure size 432x288 with 1 Axes>"
      ]
     },
     "metadata": {},
     "output_type": "display_data"
    }
   ],
   "source": [
    "pl.plot(df.h,df.p,'r+')\n",
    "pl.title(\"chances of a certain number of heads in 10 flips\")\n",
    "pl.xlabel(\"how many heads?\")\n",
    "pl.ylabel(\"probability in 10 flips\")\n",
    "pl.grid()"
   ]
  },
  {
   "cell_type": "markdown",
   "metadata": {},
   "source": [
    "Now, it turns out the expectation value of the number of heads is just N.p (make sense?):\n",
    "\n",
    "$$\\mu = Np $$.\n",
    "\n",
    "It's not as obvious, but nonetheless true that the variance is N.p.q. This means the standard deviation will be:\n",
    "\n",
    "$$ \\sigma = \\sqrt{N p q}$$\n",
    "\n",
    "If Np is fairly large it also turns out that the binomial distribution closely resembles a normal distribution. Let's try that!"
   ]
  },
  {
   "cell_type": "code",
   "execution_count": 25,
   "metadata": {},
   "outputs": [
    {
     "data": {
      "image/png": "[encoded data removed]",
      "text/plain": [
       "<Figure size 432x288 with 1 Axes>"
      ]
     },
     "metadata": {},
     "output_type": "display_data"
    }
   ],
   "source": [
    "hrange=np.linspace(df.h.values[0],df.h.values[-1],100)\n",
    "nd = norm.pdf(hrange,loc=N*p,scale=np.sqrt(N*p*q))\n",
    "pl.plot(df.h,df.p,'r+')\n",
    "pl.plot(hrange,nd,'b-')\n",
    "pl.title(\"Compare binomial and normal\")\n",
    "pl.xlabel(\"how many heads?\")\n",
    "pl.ylabel(\"probability in 10 flips\")\n",
    "pl.grid()\n"
   ]
  },
  {
   "cell_type": "markdown",
   "metadata": {},
   "source": [
    "What does this have to do with a Poisson distribution? Suppose I have a very unfair coin so that it only get's heads 10% of the time (p=0.1). Suppose further I flip it once per second. Now I expect a 'head' once every 10s or so on the *average*, but it can come sooner, or much later, depending on luck. What if I have a coin with p=0.01 but I flip it 10 times per second (maybe electronically). I'll get the *same* rate, but more time resolution (0.1 sec). What if I have a coin with p=0.001, but I flip it 100 times per second? This is where the Poisson distribution comes in. Take the limit as N goes to infinity, but p goes to zero in such a way that N.p remains fixed. Then you have a Poisson distribution! The Poisson distribution as an expectation value $\\lambda$ (like 0.1 heads per second).\n",
    "\n",
    "$$P(k) = \\frac {\\lambda^k}{k!} e^{-\\lambda}$$\n",
    "\n",
    "Where $P(k)$ is the probability of $k$ events when the expection value is $\\lambda$ events. In the Poisson distribution $q\\approx1$ so $\\sigma \\approx \\lambda$.\n",
    "\n",
    "Example: Let's go back to the defect monitoring. What is the expected number of defects in one hour? Based on our expected time between defects this would be 10 minutes between defects, or 6 defects per hour. What's the chance of 5, or 4? Let's see:"
   ]
  },
  {
   "cell_type": "code",
   "execution_count": 29,
   "metadata": {},
   "outputs": [
    {
     "data": {
      "text/html": [
       "<div>\n",
       "<style scoped>\n",
       "    .dataframe tbody tr th:only-of-type {\n",
       "        vertical-align: middle;\n",
       "    }\n",
       "\n",
       "    .dataframe tbody tr th {\n",
       "        vertical-align: top;\n",
       "    }\n",
       "\n",
       "    .dataframe thead th {\n",
       "        text-align: right;\n",
       "    }\n",
       "</style>\n",
       "<table border=\"1\" class=\"dataframe\">\n",
       "  <thead>\n",
       "    <tr style=\"text-align: right;\">\n",
       "      <th></th>\n",
       "      <th>n</th>\n",
       "      <th>p</th>\n",
       "    </tr>\n",
       "  </thead>\n",
       "  <tbody>\n",
       "    <tr>\n",
       "      <th>0</th>\n",
       "      <td>0</td>\n",
       "      <td>0.002479</td>\n",
       "    </tr>\n",
       "    <tr>\n",
       "      <th>1</th>\n",
       "      <td>1</td>\n",
       "      <td>0.014873</td>\n",
       "    </tr>\n",
       "    <tr>\n",
       "      <th>2</th>\n",
       "      <td>2</td>\n",
       "      <td>0.044618</td>\n",
       "    </tr>\n",
       "    <tr>\n",
       "      <th>3</th>\n",
       "      <td>3</td>\n",
       "      <td>0.089235</td>\n",
       "    </tr>\n",
       "    <tr>\n",
       "      <th>4</th>\n",
       "      <td>4</td>\n",
       "      <td>0.133853</td>\n",
       "    </tr>\n",
       "    <tr>\n",
       "      <th>5</th>\n",
       "      <td>5</td>\n",
       "      <td>0.160623</td>\n",
       "    </tr>\n",
       "    <tr>\n",
       "      <th>6</th>\n",
       "      <td>6</td>\n",
       "      <td>0.160623</td>\n",
       "    </tr>\n",
       "    <tr>\n",
       "      <th>7</th>\n",
       "      <td>7</td>\n",
       "      <td>0.137677</td>\n",
       "    </tr>\n",
       "    <tr>\n",
       "      <th>8</th>\n",
       "      <td>8</td>\n",
       "      <td>0.103258</td>\n",
       "    </tr>\n",
       "    <tr>\n",
       "      <th>9</th>\n",
       "      <td>9</td>\n",
       "      <td>0.068838</td>\n",
       "    </tr>\n",
       "    <tr>\n",
       "      <th>10</th>\n",
       "      <td>10</td>\n",
       "      <td>0.041303</td>\n",
       "    </tr>\n",
       "    <tr>\n",
       "      <th>11</th>\n",
       "      <td>11</td>\n",
       "      <td>0.022529</td>\n",
       "    </tr>\n",
       "    <tr>\n",
       "      <th>12</th>\n",
       "      <td>12</td>\n",
       "      <td>0.011264</td>\n",
       "    </tr>\n",
       "    <tr>\n",
       "      <th>13</th>\n",
       "      <td>13</td>\n",
       "      <td>0.005199</td>\n",
       "    </tr>\n",
       "    <tr>\n",
       "      <th>14</th>\n",
       "      <td>14</td>\n",
       "      <td>0.002228</td>\n",
       "    </tr>\n",
       "    <tr>\n",
       "      <th>15</th>\n",
       "      <td>15</td>\n",
       "      <td>0.000891</td>\n",
       "    </tr>\n",
       "  </tbody>\n",
       "</table>\n",
       "</div>"
      ],
      "text/plain": [
       "     n         p\n",
       "0    0  0.002479\n",
       "1    1  0.014873\n",
       "2    2  0.044618\n",
       "3    3  0.089235\n",
       "4    4  0.133853\n",
       "5    5  0.160623\n",
       "6    6  0.160623\n",
       "7    7  0.137677\n",
       "8    8  0.103258\n",
       "9    9  0.068838\n",
       "10  10  0.041303\n",
       "11  11  0.022529\n",
       "12  12  0.011264\n",
       "13  13  0.005199\n",
       "14  14  0.002228\n",
       "15  15  0.000891"
      ]
     },
     "execution_count": 29,
     "metadata": {},
     "output_type": "execute_result"
    }
   ],
   "source": [
    "from scipy.stats import poisson\n",
    "\n",
    "results = []\n",
    "N=15\n",
    "lam=6\n",
    "\n",
    "for ndefects in range(N+1):\n",
    "    prob = poisson.pmf(ndefects, lam)\n",
    "    results.append({'n':ndefects, 'p':prob})\n",
    "    \n",
    "df = pd.DataFrame(results)\n",
    "df"
   ]
  },
  {
   "cell_type": "code",
   "execution_count": 31,
   "metadata": {},
   "outputs": [
    {
     "data": {
      "image/png": "[encoded data removed]",
      "text/plain": [
       "<Figure size 432x288 with 1 Axes>"
      ]
     },
     "metadata": {},
     "output_type": "display_data"
    }
   ],
   "source": [
    "pl.plot(df.n,df.p,'r+')\n",
    "pl.title(\"chances of a certain number of defects in 1 hour\")\n",
    "pl.xlabel(\"how many defects?\")\n",
    "pl.ylabel(\"probability\")\n",
    "pl.grid()"
   ]
  },
  {
   "cell_type": "code",
   "execution_count": 32,
   "metadata": {},
   "outputs": [
    {
     "data": {
      "text/plain": [
       "0.9994909017287822"
      ]
     },
     "execution_count": 32,
     "metadata": {},
     "output_type": "execute_result"
    }
   ],
   "source": [
    "df.p.sum()"
   ]
  },
  {
   "cell_type": "markdown",
   "metadata": {},
   "source": [
    "Why don't the probabilities add exactly to one?\n",
    "\n",
    "### Normal Approximation\n",
    "\n",
    "As with the binomial distribution, the normal distribution can be used to approximate the poisson. It works best for large values of the expectation value. As you can see, the comparions here $\\lambda=6$ is not wonderful. Experiment with it and determine which values of $\\lambda$ give better agreement."
   ]
  },
  {
   "cell_type": "code",
   "execution_count": 34,
   "metadata": {},
   "outputs": [
    {
     "data": {
      "image/png": "[encoded data removed]",
      "text/plain": [
       "<Figure size 432x288 with 1 Axes>"
      ]
     },
     "metadata": {},
     "output_type": "display_data"
    }
   ],
   "source": [
    "hrange=np.linspace(df.n.values[0],df.n.values[-1],100)\n",
    "nd = norm.pdf(hrange,loc=lam,scale=np.sqrt(lam))\n",
    "pl.plot(df.n,df.p,'r+')\n",
    "pl.plot(hrange,nd,'b-')\n",
    "pl.title(\"Compare poisson and normal\")\n",
    "pl.xlabel(\"how many defects?\")\n",
    "pl.ylabel(\"probability of defects\")\n",
    "pl.grid()\n",
    "\n"
   ]
  },
  {
   "cell_type": "markdown",
   "metadata": {},
   "source": [
    "# Exercises\n",
    "\n",
    "1) Experiment with the normal distribution and the poisson distribution. For what values of $\\lambda$ does the agreement become acceptable?\n",
    "\n",
    "\n",
    "2) Collect counts over time from a natural radioactive source (this will be explained) using your interrupt driven program and compare your results with the predictions of the poisson distribution.\n"
   ]
  },
  {
   "cell_type": "code",
   "execution_count": null,
   "metadata": {},
   "outputs": [],
   "source": []
  }
 ],
 "metadata": {
  "kernelspec": {
   "display_name": "Python 3",
   "language": "python",
   "name": "python3"
  },
  "language_info": {
   "codemirror_mode": {
    "name": "ipython",
    "version": 3
   },
   "file_extension": ".py",
   "mimetype": "text/x-python",
   "name": "python",
   "nbconvert_exporter": "python",
   "pygments_lexer": "ipython3",
   "version": "3.8.3"
  }
 },
 "nbformat": 4,
 "nbformat_minor": 2
}
