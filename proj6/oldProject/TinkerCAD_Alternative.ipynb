{
 "cells": [
  {
   "cell_type": "markdown",
   "metadata": {},
   "source": [
    "# Project 6 Alternative\n",
    "\n",
    "Due to the COVID-19 pandemic we are moving this lab to an online only simulation.\n",
    "\n",
    "You'll be using TinkerCAD to build the circuit that we would've built using the PSoC.\n",
    "\n",
    "See the \"Online Lab\" lesson on Ace for details, here I'll just give the basic layouts. \n",
    "\n",
    "In TinkerCAD you'll want to set things up like this:\n",
    "\n",
    "![Tinker](TinkerLayout.png)\n"
   ]
  },
  {
   "cell_type": "markdown",
   "metadata": {},
   "source": [
    "As I describe in the video, add a little, test a little, add a little, ... and so on.\n",
    "\n",
    "It's easy to spend a long time doing a lot of wiring and then facing a very difficult \n",
    "debugging problem. If you test as you go, you'll save a lot of time in the end. Trust me!\n",
    "\n",
    "It would be good to use LEDs to show the state of the flip-flops and turn down the \n",
    "frequency of the sine wave to be able to see the counting happening since the \n",
    "oscilloscope tool is too crude to really get a sense of that.\n",
    "\n"
   ]
  },
  {
   "cell_type": "markdown",
   "metadata": {},
   "source": [
    "For the schematic you can use KiCAD. You should end up with something that looks like this:\n",
    "\n",
    "![KiCAD](KiCADLayout.png)"
   ]
  },
  {
   "cell_type": "markdown",
   "metadata": {},
   "source": [
    "Bonus: I'll give bonus points to folks who add a fourth bit to the counter! (In both KiCAD and TinkerCAD)."
   ]
  },
  {
   "cell_type": "code",
   "execution_count": null,
   "metadata": {},
   "outputs": [],
   "source": []
  }
 ],
 "metadata": {
  "kernelspec": {
   "display_name": "Python 3",
   "language": "python",
   "name": "python3"
  },
  "language_info": {
   "codemirror_mode": {
    "name": "ipython",
    "version": 3
   },
   "file_extension": ".py",
   "mimetype": "text/x-python",
   "name": "python",
   "nbconvert_exporter": "python",
   "pygments_lexer": "ipython3",
   "version": "3.7.6"
  }
 },
 "nbformat": 4,
 "nbformat_minor": 2
}
