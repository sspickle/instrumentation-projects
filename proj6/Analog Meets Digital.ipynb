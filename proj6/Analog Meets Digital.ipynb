{
 "cells": [
  {
   "cell_type": "markdown",
   "metadata": {},
   "source": [
    "# Project 6: Analog Meets Digital (PSoC)\n",
    "\n",
    "This project has two primary goals:\n",
    "\n",
    "1. Introduce students to PSoC technology (in particular [the cypress PSOC-5LP])(https://www.infineon.com/cms/en/product/evaluation-boards/cy8ckit-059/)\n",
    " \n",
    "2. Introduce concepts of digital logic and hardware, including comparators, gates and flip-flops.\n",
    "\n",
    "See Fig. 1 below.\n",
    "\n",
    "|Figure 1|\n",
    "|:-|\n",
    "|![Fig. 1: This Week's Circuit](p6-schem.png)|\n",
    "|This Week's Circuit|\n"
   ]
  },
  {
   "cell_type": "markdown",
   "metadata": {},
   "source": [
    "Create a \"new project\" in the PSoC Creator 4.4 software as shown in this [video:](https://youtu.be/tu07UTEdrmk)\n",
    "\n",
    "Note: last year we used a PSOC-6 device, which is pretty similar to the 5LP, but not exactly the same.\n",
    "\n",
    "You'll need to download the PSOC-Creator software from here:\n",
    "\n",
    "[PSOC Creator 4.4](https://softwaretools.infineon.com/tools/com.ifx.tb.tool.psoccreator?_ga=2.103481923.232366436.1648641864-1482286764.1648641864)\n",
    "\n",
    "You'll need the 5LP examples and tools for PSOC Creator from here:\n",
    "\n",
    "[5LP CY8Kit Components](https://itools.infineon.com/archive/CY8CKIT059SetupOnlyPackage_RevSA.exe)\n",
    "\n",
    "Build on part of the circuit at a time. First add *just* the op-amp. Then test it. Then add the comparator, then test *that*, and so on.\n",
    "\n",
    "For `Vin`, use a sinusoidal output from the function generator. Be sure to keep the voltage in the range +/- 3.3V. Start with a frequency of 500 Hz to match the video. After you have things working, you can play around with the frequency.\n",
    "\n",
    "For `VCMP`, use the DC bench supply. Also, keep the voltage in the range 0-3.3V.\n",
    "\n",
    "Use the bench scope to verify each part of your circuit is working properly.\n",
    "\n",
    "The outputs on `Pin_1`, `Pin_2`, and `Pin_3` should be square wave signals with frequencies of 1/2, 1/4, and 1/8 of the original sine frequency, respectively.\n",
    "\n"
   ]
  },
  {
   "cell_type": "code",
   "execution_count": null,
   "metadata": {},
   "outputs": [],
   "source": []
  }
 ],
 "metadata": {
  "kernelspec": {
   "display_name": "Python 3",
   "language": "python",
   "name": "python3"
  },
  "language_info": {
   "codemirror_mode": {
    "name": "ipython",
    "version": 3
   },
   "file_extension": ".py",
   "mimetype": "text/x-python",
   "name": "python",
   "nbconvert_exporter": "python",
   "pygments_lexer": "ipython3",
   "version": "3.8.3"
  }
 },
 "nbformat": 4,
 "nbformat_minor": 2
}
