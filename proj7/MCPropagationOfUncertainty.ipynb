{
 "cells": [
  {
   "cell_type": "markdown",
   "metadata": {},
   "source": [
    "# Monte-Carlo Propagation of Uncertainty\n",
    "\n",
    "\n",
    "Suppose you measure the diameter, the thickness, and the mass of a disk to estimate its density. \n",
    "\n",
    "| attribute | value  | uncertainty ($\\sigma$) |\n",
    "|-----------|--------|-------------|\n",
    "| diameter (d)  | 3.2 cm | 0.1 cm      |\n",
    "| thickness (t)| 0.6 cm | 0.1 cm      |\n",
    "| mass      (m) | 45.4 g | 0.1 g       |\n",
    "\n",
    "How do you compute density? \n",
    "\n",
    "$$\\rho = \\frac{m}{V} = \\frac{m}{\\pi (d/2)^2 t} = \\frac{4 m}{\\pi d^2 t}$$\n",
    "\n",
    "Good! So let's do it:"
   ]
  },
  {
   "cell_type": "code",
   "execution_count": 1,
   "metadata": {},
   "outputs": [
    {
     "name": "stdout",
     "output_type": "stream",
     "text": [
      "Density =  9.41 g/cm^3\n"
     ]
    }
   ],
   "source": [
    "%matplotlib inline\n",
    "import numpy as np\n",
    "import matplotlib.pyplot as pl\n",
    "\n",
    "d = 3.2\n",
    "t = 0.6\n",
    "m = 45.4\n",
    "\n",
    "V = np.pi*(d/2)**2*t\n",
    "\n",
    "rho = m/V\n",
    "print(\"Density = {0:5.2f} g/cm^3\".format(rho))"
   ]
  },
  {
   "cell_type": "markdown",
   "metadata": {},
   "source": [
    "So $\\rho = 9.41 g/cm^3$, but what's the uncertainty in the density $\\sigma_{\\rho}$?\n",
    "\n",
    "You could do it with calculus as described [here](Parameter%20Estimation.ipynb), but you can also do it with a Monte-Carlo (MC) technique like this:"
   ]
  },
  {
   "cell_type": "code",
   "execution_count": 2,
   "metadata": {},
   "outputs": [
    {
     "data": {
      "text/plain": [
       "(5, 20)"
      ]
     },
     "execution_count": 2,
     "metadata": {},
     "output_type": "execute_result"
    },
    {
     "data": {
      "image/png": "[encoded data removed]",
      "text/plain": [
       "<Figure size 432x288 with 1 Axes>"
      ]
     },
     "metadata": {
      "needs_background": "light"
     },
     "output_type": "display_data"
    }
   ],
   "source": [
    "sigma_d = 0.1\n",
    "sigma_t = 0.1\n",
    "sigma_m = 0.1\n",
    "N = 10000\n",
    "\n",
    "dMC = d + sigma_d*np.random.normal(size=N)\n",
    "tMC = t + sigma_t*np.random.normal(size=N)\n",
    "mMC = m + sigma_m*np.random.normal(size=N)\n",
    "\n",
    "VMC = np.pi*(dMC/2)**2*tMC\n",
    "rhoMC = mMC/VMC\n",
    "\n",
    "pl.hist(rhoMC,bins=np.linspace(5,20,21))\n",
    "pl.grid()\n",
    "pl.title(\"MC Estimate of density\")\n",
    "pl.xlim(5,20)\n"
   ]
  },
  {
   "cell_type": "code",
   "execution_count": 3,
   "metadata": {},
   "outputs": [
    {
     "name": "stdout",
     "output_type": "stream",
     "text": [
      "Rho estimate: 9.768 +/- 3.819 g/cm^3\n"
     ]
    }
   ],
   "source": [
    "print(\"Rho estimate: {0:5.3f} +/- {1:5.3f} g/cm^3\".format(rhoMC.mean(), 2*rhoMC.std()))"
   ]
  },
  {
   "cell_type": "code",
   "execution_count": null,
   "metadata": {},
   "outputs": [],
   "source": []
  }
 ],
 "metadata": {
  "kernelspec": {
   "display_name": "Python 3",
   "language": "python",
   "name": "python3"
  },
  "language_info": {
   "codemirror_mode": {
    "name": "ipython",
    "version": 3
   },
   "file_extension": ".py",
   "mimetype": "text/x-python",
   "name": "python",
   "nbconvert_exporter": "python",
   "pygments_lexer": "ipython3",
   "version": "3.8.3"
  }
 },
 "nbformat": 4,
 "nbformat_minor": 2
}
