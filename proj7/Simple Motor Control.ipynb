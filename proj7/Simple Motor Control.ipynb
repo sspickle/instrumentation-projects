{
 "cells": [
  {
   "cell_type": "markdown",
   "metadata": {},
   "source": [
    "# Controlling Motors\n",
    "\n",
    "This week we'll be learning about controlling systems with various motors. We're going to start with servo motors since they're the simplest. Consider the following Arduino Code:\n",
    "\n",
    "    #include <Servo.h>   //include the servo library\n",
    "\n",
    "    int potPosition;     //this variable will store the position of the potentiometer\n",
    "    int servoPosition;   //the servo will move to this position\n",
    "\n",
    "    Servo myservo;       //create a servo object\n",
    "\n",
    "    void setup() {\n",
    "\n",
    "      myservo.attach(9); //tell the servo object that its servo is plugged into pin 9\n",
    "\n",
    "    }\n",
    "\n",
    "    void loop() {\n",
    "\n",
    "        //use analog read to measure the position of the potentiometer (0-1023)\n",
    "\n",
    "        potPosition = analogRead(A0);        \n",
    "      \n",
    "        //convert the potentiometer number to a servo position from 20-160\n",
    "        //Note: its best to avoid driving the little SIK servos all the \n",
    "        //way to 0 or 180 degrees it can cause the motor to jitter, which is bad for the servo.\n",
    "\n",
    "        servoPosition = map(potPosition, 0,1023,20,160);\n",
    "\n",
    "        myservo.write(servoPosition);\n",
    "    }\n",
    "\n",
    "Build this program and use the DC bench supply (set carefully between 0 and 2V) to pin A0 and the servo control line on pin 9. The servo-motor will also need power, which you can take from the 3V3 pin on microcontroller. Note: This only works for *small* servo motors. For a larger motor that needs to move something substantial, a separate power supply is almost *certainly* required.\n",
    "\n",
    "Use the oscilloscope to study the behavior of the control line as you adjust the potentiometer and witness the motion of the servo. What changes about the pulses driving the control line as you adjust the voltage on pin A0?\n",
    "\n",
    "There is a significant complexity buried in the \"servo\" object here (FYI you can find the servo object implementation under the Arduino Application 'libraries' folder). To implement this on the Cypress PSoC-6 we'll need to learn about the [PWM object from PSoC-Creator](https://youtu.be/NspdwoSHJDk). Once you're familiar with that, create your own Servo control program that uses the A/D converter to read a voltage and control the servo just like the Arduino program above."
   ]
  },
  {
   "cell_type": "markdown",
   "metadata": {},
   "source": [
    "## Project GOAL: Build a circuit that controls a motor using a sensor\n",
    "\n",
    "### Requirements\n",
    "\n",
    "1. Your circuit must use some sensor (not a potentiometer) as an input to control the circuit\n",
    "2. You circuit must control either the speed or the angle of a motor using that input\n",
    "\n",
    "For background, remember that you've learned about the basic physics of DC motors (based on the torque on a magnetic dipole in a magnetic field) in PHYS-163 (see, e.g., section 20.9, p834, Matter and Interactions, V2, 3rd Ed.). In this project you'll build a circuit that controls a motor based on the input measured from some external sensor. \n",
    "\n",
    "You have multiple options to consider as you plan your project. 1) What type of motor\n",
    "would you like to use? and 2) How do you need to control that motor?\n",
    "\n",
    "For the purposes of this project we'll be either using a simple DC motor, a stepper motor, or a servo motor\n",
    "For each choice you have multiple options for controling the motor:\n",
    "\n",
    "1. DC Motor\n",
    " * H-Bridge\n",
    "2. Servo Motor\n",
    " * Direct (Manual) PWM\n",
    " * Servo library\n",
    "3. Stepper Motor\n",
    " * Direct (Manual) pulses\n",
    " \n",
    "You can read a bit about servo motors [here](https://www.servocity.com/how-does-a-servo-work).\n",
    "\n",
    "The Arduino Servo library is  [here](https://www.arduino.cc/en/reference/servo)\n",
    "\n",
    "We'll also be going over these motors in class, and through more videos.\n"
   ]
  },
  {
   "cell_type": "code",
   "execution_count": null,
   "metadata": {},
   "outputs": [],
   "source": []
  }
 ],
 "metadata": {
  "kernelspec": {
   "display_name": "Python 3",
   "language": "python",
   "name": "python3"
  },
  "language_info": {
   "codemirror_mode": {
    "name": "ipython",
    "version": 3
   },
   "file_extension": ".py",
   "mimetype": "text/x-python",
   "name": "python",
   "nbconvert_exporter": "python",
   "pygments_lexer": "ipython3",
   "version": "3.8.3"
  }
 },
 "nbformat": 4,
 "nbformat_minor": 2
}
