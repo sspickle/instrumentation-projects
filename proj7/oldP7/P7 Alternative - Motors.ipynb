{
 "cells": [
  {
   "cell_type": "markdown",
   "metadata": {},
   "source": [
    "# Project 7 Alternative: Simple Motors\n",
    "\n",
    "We will not complete the PSoC based PID feedback project that was originally \n",
    "planned due to our COVID-19 isolation. Instead we'll learn about simple DC motors.\n",
    "\n",
    "You've learned about the basic physics of DC motors (beased on the torque on a \n",
    "magnetic dipole in a magnetic field) in PHYS-163 (see, e.g., section 20.9, p834, \n",
    "Matter and Interactions, V2, 3rd Ed.). In this project you'll build a virtual\n",
    "circuit in TinkerCAD that controls a motor based on the input measured from some\n",
    "external sensor. \n",
    "\n",
    "## Project GOAL: Build a circuit that controls a motor using a sensor\n",
    "\n",
    "### Requirements\n",
    "\n",
    "1. Your circuit must use some sensor (not a potentiometer) as an input to control the circuit\n",
    "2. You circuit must control either the speed or the angle of a motor using that input\n",
    "\n",
    "## Background\n",
    "\n",
    "You have multiple options to consider as you plan your project. 1) What type of motor\n",
    "would you like to use? and 2) How do you need to control that motor?\n",
    "\n",
    "For the purposes of this project we'll be either using a simple DC motor, or a servo motor\n",
    "(since that's what's easily aviable in TinkerCAD). You can choose either one. For each choice\n",
    "you have multiple options for controling the motor:\n",
    "\n",
    "1. DC Motor\n",
    " * H-Bridge\n",
    " * Motor Controller\n",
    "       - Direct (Manual) PWM\n",
    "       - Servo Library\n",
    "2. Servo Motor\n",
    " * Direct (Manual) PWM\n",
    " * Servo library\n",
    " \n",
    "You can also choose between an Arduino microcontroller, or an alterantive: The MicroChip ATTINY85\n",
    "\n",
    "You can learn more about the ATTINY85 here:\n",
    "\n",
    "[Atmel ATTINY-85 AVR Microcontroller](http://ww1.microchip.com/downloads/en/DeviceDoc/Atmel-7598_Automotive-Microcontrollers-ATtiny25-45-85_Datasheet.pdf)\n",
    "\n",
    "You can also read a bit about servo motors [here](https://www.servocity.com/how-does-a-servo-work).\n",
    "\n",
    "The pololu motor controller is [here](https://www.pololu.com/docs/0J44).\n",
    "\n",
    "The Arduino Servo library is  [here](https://www.arduino.cc/en/reference/servo)\n",
    "\n",
    "I also go over all of these in the [video](https://youtu.be/ccdIXDvDDMk).\n"
   ]
  },
  {
   "cell_type": "code",
   "execution_count": null,
   "metadata": {},
   "outputs": [],
   "source": []
  }
 ],
 "metadata": {
  "kernelspec": {
   "display_name": "Python 3",
   "language": "python",
   "name": "python3"
  },
  "language_info": {
   "codemirror_mode": {
    "name": "ipython",
    "version": 3
   },
   "file_extension": ".py",
   "mimetype": "text/x-python",
   "name": "python",
   "nbconvert_exporter": "python",
   "pygments_lexer": "ipython3",
   "version": "3.7.6"
  }
 },
 "nbformat": 4,
 "nbformat_minor": 2
}
